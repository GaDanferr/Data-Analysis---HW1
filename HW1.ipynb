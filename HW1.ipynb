{
 "cells": [
  {
   "cell_type": "markdown",
   "id": "ee87343e",
   "metadata": {},
   "source": [
    "# Part 1 - Exploring Datasets"
   ]
  },
  {
   "cell_type": "code",
   "execution_count": 1,
   "id": "4823f417",
   "metadata": {},
   "outputs": [],
   "source": [
    "import pandas as pd\n",
    "import seaborn as sns\n",
    "import numpy as np\n",
    "df = pd.read_csv('HW1_data.csv')"
   ]
  },
  {
   "cell_type": "markdown",
   "id": "4620ad4e",
   "metadata": {},
   "source": [
    "## Question 1\n",
    "**How many entries does the dataset contain?**\n",
    "\n",
    "**Answer:**"
   ]
  },
  {
   "cell_type": "code",
   "execution_count": 2,
   "id": "0fa68ab0",
   "metadata": {},
   "outputs": [
    {
     "data": {
      "text/plain": [
       "(684, 11)"
      ]
     },
     "execution_count": 2,
     "metadata": {},
     "output_type": "execute_result"
    }
   ],
   "source": [
    "df.shape"
   ]
  },
  {
   "cell_type": "markdown",
   "id": "83e58488",
   "metadata": {},
   "source": [
    "The dataset contains 684 different data entry points."
   ]
  },
  {
   "cell_type": "markdown",
   "id": "5d08886f",
   "metadata": {},
   "source": [
    "## Question 2\n",
    "**Which fields in the dataset are 'numerical' and which are 'categorical'?**\n",
    "\n",
    "**Answer**:\n"
   ]
  },
  {
   "cell_type": "markdown",
   "id": "4abea6b8",
   "metadata": {},
   "source": [
    "First, let us view what type of columns the dataframe generated from the dataset contains."
   ]
  },
  {
   "cell_type": "code",
   "execution_count": 15,
   "id": "a658f446",
   "metadata": {},
   "outputs": [
    {
     "data": {
      "text/html": [
       "<div>\n",
       "<style scoped>\n",
       "    .dataframe tbody tr th:only-of-type {\n",
       "        vertical-align: middle;\n",
       "    }\n",
       "\n",
       "    .dataframe tbody tr th {\n",
       "        vertical-align: top;\n",
       "    }\n",
       "\n",
       "    .dataframe thead th {\n",
       "        text-align: right;\n",
       "    }\n",
       "</style>\n",
       "<table border=\"1\" class=\"dataframe\">\n",
       "  <thead>\n",
       "    <tr style=\"text-align: right;\">\n",
       "      <th></th>\n",
       "      <th>league</th>\n",
       "      <th>year</th>\n",
       "      <th>position</th>\n",
       "      <th>team</th>\n",
       "      <th>matches</th>\n",
       "      <th>wins</th>\n",
       "      <th>draws</th>\n",
       "      <th>loses</th>\n",
       "      <th>scored</th>\n",
       "      <th>conceded</th>\n",
       "      <th>pts</th>\n",
       "    </tr>\n",
       "  </thead>\n",
       "  <tbody>\n",
       "  </tbody>\n",
       "</table>\n",
       "</div>"
      ],
      "text/plain": [
       "Empty DataFrame\n",
       "Columns: [league, year, position, team, matches, wins, draws, loses, scored, conceded, pts]\n",
       "Index: []"
      ]
     },
     "execution_count": 15,
     "metadata": {},
     "output_type": "execute_result"
    }
   ],
   "source": [
    "df.head(0)"
   ]
  },
  {
   "cell_type": "markdown",
   "id": "23213fff",
   "metadata": {},
   "source": [
    "The **numerical fields** in the data set are: matchs, wins, draws, loses , scored , conceded ,pts (points).\n",
    "\n",
    "while the **categorical fields** in the given data set are: league, year , position , team."
   ]
  },
  {
   "cell_type": "markdown",
   "id": "77488ec0",
   "metadata": {},
   "source": [
    "Although position and year are numerical values. It is evident they can be used to categorize our data as they give\n",
    "us clear cutoffs 'who was first place?' \n",
    "\n",
    "'in the year x which team played' as opposed to the numerical fields which\n",
    "aren't continious unless we arbitrerly define certain conditions which aren't defined naturally."
   ]
  },
  {
   "cell_type": "markdown",
   "id": "a124b041",
   "metadata": {},
   "source": [
    "## Question 3\n",
    "**How many unique values does each one of the categorical contain?**\n",
    "\n",
    "**Answer:**"
   ]
  },
  {
   "cell_type": "code",
   "execution_count": 4,
   "id": "fb582440",
   "metadata": {},
   "outputs": [
    {
     "name": "stdout",
     "output_type": "stream",
     "text": [
      "Field 'league' has 6 unique values.\n",
      "Field 'year' has 6 unique values.\n",
      "Field 'position' has 20 unique values.\n",
      "Field 'team' has 168 unique values.\n"
     ]
    }
   ],
   "source": [
    "categorical = [\"league\", \"year\" , \"position\" , \"team\"]\n",
    "for category in categorical:\n",
    "    \n",
    "    #type(field)\n",
    "    print(\"Field\",\"'\"+category+\"'\" , \"has\", len(df[category].unique()), \"unique values.\")\n"
   ]
  },
  {
   "cell_type": "markdown",
   "id": "7377d176",
   "metadata": {},
   "source": [
    "## Question 4\n",
    "**Which fields in the dataset contain missing values (such as NULL) and how many are there per field?**\n",
    "\n",
    "Answer:"
   ]
  },
  {
   "cell_type": "code",
   "execution_count": 5,
   "id": "ea73ce63",
   "metadata": {},
   "outputs": [
    {
     "name": "stdout",
     "output_type": "stream",
     "text": [
      "league      0\n",
      "year        0\n",
      "position    0\n",
      "team        0\n",
      "matches     0\n",
      "wins        0\n",
      "draws       0\n",
      "loses       0\n",
      "scored      0\n",
      "conceded    3\n",
      "pts         0\n",
      "dtype: int64\n"
     ]
    }
   ],
   "source": [
    "print(df.isna().sum())"
   ]
  },
  {
   "cell_type": "markdown",
   "id": "55bf7391",
   "metadata": {},
   "source": [
    "In the current data set the only field with missing values is the field 'conceded' and it has 3 missing values"
   ]
  },
  {
   "cell_type": "markdown",
   "id": "e832d6fa",
   "metadata": {},
   "source": [
    "## Question 5\n",
    "**How many different teams played for each one of the league over the years in the dataset? Which league included the least amount of unique teams?**\n",
    "\n",
    "**Answer:**"
   ]
  },
  {
   "cell_type": "code",
   "execution_count": 6,
   "id": "75d09fed",
   "metadata": {},
   "outputs": [
    {
     "data": {
      "text/plain": [
       "league\n",
       "Bundesliga    24\n",
       "EPL           30\n",
       "La_liga       30\n",
       "Ligue_1       29\n",
       "RFPL          25\n",
       "Serie_A       30\n",
       "Name: team, dtype: int64"
      ]
     },
     "execution_count": 6,
     "metadata": {},
     "output_type": "execute_result"
    }
   ],
   "source": [
    "gb_league = df.groupby('league')\n",
    "\n",
    "gb_league['team'].unique().apply(len)"
   ]
  },
  {
   "cell_type": "markdown",
   "id": "3519d3b6",
   "metadata": {},
   "source": [
    "The Bundesliga league had the least amount of teams with only 24 teams"
   ]
  },
  {
   "cell_type": "markdown",
   "id": "b7c486c4",
   "metadata": {},
   "source": [
    "## Question 6\n",
    "\n",
    "**Present the average goal count each time had for each year. In addition, show the linear correlation between the average goal count for each team to their respective placement in the league. Explain the significance of your findings.**\n",
    "\n",
    "**Answer**"
   ]
  },
  {
   "cell_type": "code",
   "execution_count": 7,
   "id": "b9194ed0",
   "metadata": {
    "scrolled": true
   },
   "outputs": [
    {
     "data": {
      "text/html": [
       "<div>\n",
       "<style scoped>\n",
       "    .dataframe tbody tr th:only-of-type {\n",
       "        vertical-align: middle;\n",
       "    }\n",
       "\n",
       "    .dataframe tbody tr th {\n",
       "        vertical-align: top;\n",
       "    }\n",
       "\n",
       "    .dataframe thead th {\n",
       "        text-align: right;\n",
       "    }\n",
       "</style>\n",
       "<table border=\"1\" class=\"dataframe\">\n",
       "  <thead>\n",
       "    <tr style=\"text-align: right;\">\n",
       "      <th></th>\n",
       "      <th>year</th>\n",
       "      <th>position</th>\n",
       "      <th>mean_goal_per_match</th>\n",
       "    </tr>\n",
       "  </thead>\n",
       "  <tbody>\n",
       "    <tr>\n",
       "      <th>0</th>\n",
       "      <td>2014</td>\n",
       "      <td>1</td>\n",
       "      <td>2.894737</td>\n",
       "    </tr>\n",
       "    <tr>\n",
       "      <th>1</th>\n",
       "      <td>2015</td>\n",
       "      <td>1</td>\n",
       "      <td>2.947368</td>\n",
       "    </tr>\n",
       "    <tr>\n",
       "      <th>2</th>\n",
       "      <td>2016</td>\n",
       "      <td>2</td>\n",
       "      <td>3.052632</td>\n",
       "    </tr>\n",
       "    <tr>\n",
       "      <th>3</th>\n",
       "      <td>2017</td>\n",
       "      <td>1</td>\n",
       "      <td>2.605263</td>\n",
       "    </tr>\n",
       "    <tr>\n",
       "      <th>4</th>\n",
       "      <td>2018</td>\n",
       "      <td>1</td>\n",
       "      <td>2.368421</td>\n",
       "    </tr>\n",
       "    <tr>\n",
       "      <th>...</th>\n",
       "      <td>...</td>\n",
       "      <td>...</td>\n",
       "      <td>...</td>\n",
       "    </tr>\n",
       "    <tr>\n",
       "      <th>679</th>\n",
       "      <td>2017</td>\n",
       "      <td>15</td>\n",
       "      <td>0.766667</td>\n",
       "    </tr>\n",
       "    <tr>\n",
       "      <th>680</th>\n",
       "      <td>2017</td>\n",
       "      <td>16</td>\n",
       "      <td>0.533333</td>\n",
       "    </tr>\n",
       "    <tr>\n",
       "      <th>681</th>\n",
       "      <td>2018</td>\n",
       "      <td>16</td>\n",
       "      <td>0.800000</td>\n",
       "    </tr>\n",
       "    <tr>\n",
       "      <th>682</th>\n",
       "      <td>2019</td>\n",
       "      <td>12</td>\n",
       "      <td>1.333333</td>\n",
       "    </tr>\n",
       "    <tr>\n",
       "      <th>683</th>\n",
       "      <td>2019</td>\n",
       "      <td>15</td>\n",
       "      <td>1.233333</td>\n",
       "    </tr>\n",
       "  </tbody>\n",
       "</table>\n",
       "<p>684 rows × 3 columns</p>\n",
       "</div>"
      ],
      "text/plain": [
       "     year  position  mean_goal_per_match\n",
       "0    2014         1             2.894737\n",
       "1    2015         1             2.947368\n",
       "2    2016         2             3.052632\n",
       "3    2017         1             2.605263\n",
       "4    2018         1             2.368421\n",
       "..    ...       ...                  ...\n",
       "679  2017        15             0.766667\n",
       "680  2017        16             0.533333\n",
       "681  2018        16             0.800000\n",
       "682  2019        12             1.333333\n",
       "683  2019        15             1.233333\n",
       "\n",
       "[684 rows x 3 columns]"
      ]
     },
     "execution_count": 7,
     "metadata": {},
     "output_type": "execute_result"
    }
   ],
   "source": [
    "meanScore_df =  {                  #I would rather not submit this incredibly jank but it does work regardless of the data\n",
    "    'year' : [2014],\n",
    "    'position': [1],\n",
    "    'mean_goal_per_match' : [3.2],            #created a dictionary to house the final data \n",
    "                                #note : if a team played more than once a year we would not be able to just splice the \n",
    "}                               #original data frame as we would have to make sure to avg out ALL the games the team played\n",
    "                                #and house them only once in the dataframe used for the correlation\n",
    "meanScore_df = pd.DataFrame(meanScore_df)\n",
    "meanScore_df = meanScore_df.drop(index=0) \n",
    "team_list = df['team'].unique()\n",
    "gb_team = df.groupby('team')\n",
    "\n",
    "for team in team_list:                          #going over each team\n",
    "    certain_team = gb_team.get_group(team)\n",
    "    unique_years = (certain_team['year'].unique())\n",
    "    certain_year = certain_team.groupby('year')\n",
    "    \n",
    "    for years in unique_years:                 #going over each year a certain team had played\n",
    "        group = certain_year.get_group(years)\n",
    "        #if group.shape[0] > 1:                           #these are the lines that were used to check if any team played\n",
    "        #print (group.shape[0])                           #more than once a year\n",
    "        means = group['scored'].sum() / group['matches'].sum()   #counting the mean of ALL the games of a certain year\n",
    "        tmp =  {                                                #placing said data in a dictionary\n",
    "        'year' : [years],\n",
    "        'position': [group.iloc[0,2]],\n",
    "        'mean_goal_per_match' : [means],\n",
    "        }\n",
    "        tmp = pd.DataFrame(tmp)                                 #converting and concating each dictionary \n",
    "        meanScore_df = pd.concat([meanScore_df, tmp],ignore_index=True)\n",
    "        \n",
    "        \n",
    "meanScore_df"
   ]
  },
  {
   "cell_type": "code",
   "execution_count": 8,
   "id": "4ec8c1c9",
   "metadata": {},
   "outputs": [
    {
     "name": "stdout",
     "output_type": "stream",
     "text": [
      "the correlation is -0.7587818572237598\n"
     ]
    }
   ],
   "source": [
    "print(\"the correlation is\" ,meanScore_df['position'].corr(meanScore_df['mean_goal_per_match']))"
   ]
  },
  {
   "cell_type": "markdown",
   "id": "e3fcdcac",
   "metadata": {},
   "source": [
    "As expected we have found that there is a strong correlation between the mean goals to the placement of a team for a league. Such a correlation suggests that the more a team scores the more likely it is for that them to also be placed high. Such results are not suprising as the score that the team"
   ]
  },
  {
   "cell_type": "markdown",
   "id": "27f50e55",
   "metadata": {},
   "source": [
    "## Question 7\n",
    "**Present for each year and each league seperately the mean goal count of each team.Based on the output you produced which league had the biggest discrepency between the biggest mean in goal count of the years to the lowest mean of the years.**\n",
    "**Which year had the lowest mean goal count and which year had the highest goal count**\n",
    "\n",
    "missing"
   ]
  },
  {
   "cell_type": "markdown",
   "id": "90fba7e7",
   "metadata": {},
   "source": [
    "## Question 8\n",
    "**The points each team recieved is calculated in the following manner:**\n",
    "\n",
    "**Victory in a game is worth 3 points.**\n",
    "\n",
    "**Tie in a game is worth 1 point.**\n",
    "\n",
    "**Defeat in a game is worth 0 points.**\n",
    "\n",
    "**The column 'pts' is supposed to represent such calculation, does it appear there's an error? If so for which league, which league and which team?\n",
    "In your opinion does the fault originate from the 'pts' column? Or one of the other columns used to calculate the points?**\n",
    "\n",
    "**Answer**"
   ]
  },
  {
   "cell_type": "code",
   "execution_count": 9,
   "id": "26212cb4",
   "metadata": {
    "scrolled": true
   },
   "outputs": [
    {
     "data": {
      "text/plain": [
       "[425]"
      ]
     },
     "execution_count": 9,
     "metadata": {},
     "output_type": "execute_result"
    }
   ],
   "source": [
    "index = df.index # getting index of the dataframe\n",
    "missmatch_array = [] #containing \n",
    "for i in index:\n",
    "    row = df.iloc[i]\n",
    "    calculation = 3*row.wins + row.draws\n",
    "    if calculation != row.pts:\n",
    "        tmp = [i]\n",
    "        missmatch_array.extend(tmp)\n",
    "missmatch_array"
   ]
  },
  {
   "cell_type": "markdown",
   "id": "ed0cacbf",
   "metadata": {},
   "source": [
    "We have found only a single row that has a mismatch between the expected result from the calculation to the 'pts' column and that is:"
   ]
  },
  {
   "cell_type": "code",
   "execution_count": 10,
   "id": "598b7fbb",
   "metadata": {},
   "outputs": [
    {
     "data": {
      "text/plain": [
       "league      Serie_A\n",
       "year           2017\n",
       "position         18\n",
       "team        Crotone\n",
       "matches          38\n",
       "wins              9\n",
       "draws             8\n",
       "loses            21\n",
       "scored           40\n",
       "conceded       66.0\n",
       "pts             180\n",
       "Name: 425, dtype: object"
      ]
     },
     "execution_count": 10,
     "metadata": {},
     "output_type": "execute_result"
    }
   ],
   "source": [
    "df.loc[425]"
   ]
  },
  {
   "cell_type": "markdown",
   "id": "cbb05a41",
   "metadata": {},
   "source": [
    "As every other entry we checked for hasn't had any discrepency between the supposed calculation and the 'pts' value it should have. It would be fair to conclude the difference resulted due to faulty data. In other words the person and or machine that had organized the csv file made an error while inputting the values."
   ]
  },
  {
   "cell_type": "markdown",
   "id": "bf22989f",
   "metadata": {},
   "source": [
    "## Question 9\n",
    "\n",
    "**For this question we will define \"Failure\" as a team that conceded more goals in a certain year than the goals it scored\n",
    "assuming teams that had a missing value (NULL) for their conceded goals for a  certain year which league had the biggest amount of \"Failure\" teams over the years?**\n",
    "\n",
    "**Answer**"
   ]
  },
  {
   "cell_type": "code",
   "execution_count": 11,
   "id": "acb75699",
   "metadata": {},
   "outputs": [
    {
     "data": {
      "text/plain": [
       "La_liga       75\n",
       "EPL           71\n",
       "Bundesliga    63\n",
       "Serie_A       63\n",
       "Ligue_1       69\n",
       "RFPL          52\n",
       "dtype: int64"
      ]
     },
     "execution_count": 11,
     "metadata": {},
     "output_type": "execute_result"
    }
   ],
   "source": [
    "filtered_df = df[df.conceded.isna() == False]\n",
    "filtered_df.reset_index(inplace = True) #filter out all the teams with null conceded \n",
    "\n",
    "leagues = filtered_df['league'].unique()\n",
    "league_counterdf = { league: 0 for league in leagues}#creating a dictionary to house the amount of \"loser\" teams per league\n",
    "\n",
    "\n",
    "years = filtered_df['year'].unique() #list of unique years\n",
    "years_split = filtered_df.groupby('year') #splitting based on the years\n",
    "\n",
    "for year in years:  #for every year we are going to split again per team to find out if that team is a loser team\n",
    "    certain_year = years_split.get_group(year)\n",
    "    teams = certain_year['team'].unique()\n",
    "    teams_split = certain_year.groupby('team')\n",
    "    for team in teams: \n",
    "        certain_team = teams_split.get_group(team)\n",
    "            \n",
    "        if certain_team['scored'].sum() < certain_team['conceded'].sum(): #checking based on a certain year and team\n",
    "                                                                          #if they are a \"Loser\" team\n",
    "            certain_team.reset_index(inplace=True)\n",
    "            for i in range(certain_team.shape[0]):\n",
    "                \n",
    "                loser_team_league = certain_team.loc[i,'league']          #adding a count to the dictionary containing\n",
    "                league_counterdf[loser_team_league] +=1                   #the amount of losers it had in total\n",
    "                \n",
    "league_counterdf = pd.DataFrame([league_counterdf])\n",
    "league_counterdf.apply(sum,axis='rows')              #using sum doesn't change the data just used to make the presentation \n",
    "                                                     #cleaner"
   ]
  },
  {
   "cell_type": "markdown",
   "id": "522b4c39",
   "metadata": {},
   "source": [
    "# Part 2 - Data Representation"
   ]
  },
  {
   "cell_type": "markdown",
   "id": "b64d575a",
   "metadata": {},
   "source": [
    "## Question 1 - Top Six Countries by Military Expenditures"
   ]
  },
  {
   "cell_type": "markdown",
   "id": "369e1dac",
   "metadata": {},
   "source": [
    "### Sub-Question A\n",
    "**What could you infer about the military expenditure of the different countries in the world over the years?**\n",
    "\n",
    "**Answer:**"
   ]
  },
  {
   "cell_type": "markdown",
   "id": "540c54ad",
   "metadata": {},
   "source": [
    "Given the graph shows the amount of US dollars spent on the military budget over the years and we can clearly see most countries seem to be trending in increasing their military budget especially east/middle eastern countries"
   ]
  },
  {
   "cell_type": "markdown",
   "id": "b271f3a6",
   "metadata": {},
   "source": [
    "### Sub-Question B\n",
    "**Point to an issue with the graph that might make someone reach the wrong conclusions**\n",
    "\n",
    "**Answer**:"
   ]
  },
  {
   "cell_type": "markdown",
   "id": "4c2e5bd9",
   "metadata": {},
   "source": [
    "The author attempted to represnt multiple countries in the same graph. However, based on the axes we can see that the US  infact uses a different scaling for the points in its graph. At first glance, it might look as if China has increased its budget past the US even though in reality its budget is nowhere near the US enormous budget."
   ]
  },
  {
   "cell_type": "markdown",
   "id": "0aa96961",
   "metadata": {},
   "source": [
    "### Sub-Question C -Image MISSING\n",
    "**Suggest an alternative visualization that will represent the data in a more effective manner**\n",
    "\n",
    "**Answer**:"
   ]
  },
  {
   "cell_type": "code",
   "execution_count": 12,
   "id": "31e54b1f",
   "metadata": {},
   "outputs": [
    {
     "name": "stdout",
     "output_type": "stream",
     "text": [
      "Part B-1 Question C\n"
     ]
    }
   ],
   "source": [
    "#Question C\n",
    "print(\"Part B-1 Question C\")\n",
    "#Include image"
   ]
  },
  {
   "cell_type": "markdown",
   "id": "3092c172",
   "metadata": {},
   "source": [
    "## Question 2 - Glyphosate and GE to Death Rate"
   ]
  },
  {
   "cell_type": "markdown",
   "id": "56409188",
   "metadata": {},
   "source": [
    "### Sub-Question A\n",
    "\n",
    "**What could you infer on the relationship between 'deaths from obesity' and the usage of Glyphosate and GE in the corn and soy industry?**\n",
    "\n",
    "**Answer**:"
   ]
  },
  {
   "cell_type": "markdown",
   "id": "e647e2f2",
   "metadata": {},
   "source": [
    "The graph depicits the death rate before and after the usage of certain chemicals on foods. We can observe that there had been a dramatic increase on the count of deaths after the introduction of said chemicals into the food industry. Such trend suggests there's a correlation between the usage of the chemicals and the deaths that occured over the years"
   ]
  },
  {
   "cell_type": "markdown",
   "id": "beccf60e",
   "metadata": {},
   "source": [
    "### Sub-Question B\n",
    "**While designing the graph some unconventional measures were taken in order to reperesent a certain message. In your opinion, what is the message the the graph's creator attempted to convey? Do you agree with said message?**\n",
    "\n",
    "**Answer:**"
   ]
  },
  {
   "cell_type": "markdown",
   "id": "90f64107",
   "metadata": {},
   "source": [
    "It is clear the author attempted to claim there is a correlational/ causational relationship between the death rate and the addition of the chemicals. A correlational relationship does seem likely as just as GE and glyphosate had been added there had been a large spike in the death toll. However, this data alone does not firmly conclude there is a causational relationship as there might be an alternative explanation as to why there had been an increase of deaths."
   ]
  },
  {
   "cell_type": "markdown",
   "id": "01a3da42",
   "metadata": {},
   "source": [
    "### Sub_Question C -- INCOMPLETE\n",
    "**Find in the visualization two issues which might detract from its effectivness. Explain said issues**\n",
    "\n",
    "**Answer**:"
   ]
  },
  {
   "cell_type": "markdown",
   "id": "36464080",
   "metadata": {},
   "source": [
    "There are two glaring issues with the the graph:\n",
    "\n",
    "**Axes**: the graphs axes aren't reset to start at 0 rather they start a different point making the graph 'zoomed in'. Such alternation gives the appereance that the changes are more dramatic than they are in reality. In particulary the  'Deaths per 100,000' axe \n",
    "\n",
    "\"\""
   ]
  },
  {
   "cell_type": "markdown",
   "id": "cc308520",
   "metadata": {},
   "source": [
    "## Question 3 - Global Vegan Cheese Market Graph"
   ]
  },
  {
   "cell_type": "markdown",
   "id": "8b129f4e",
   "metadata": {},
   "source": [
    "### Sub-Question A\n",
    "**What is the information that is expected to be conveyed using this infograph?**\n",
    "\n",
    "\n",
    "**Answer**:"
   ]
  },
  {
   "cell_type": "markdown",
   "id": "4fd04e42",
   "metadata": {},
   "source": [
    "The graph attempts to show the growth of the 'Global Cheese Vegan Market' by showing a pie chart depicting the share each year contributed to the total netshare of the cheese market and it mentions the average growth that occured over the years"
   ]
  },
  {
   "cell_type": "markdown",
   "id": "2d9095bb",
   "metadata": {},
   "source": [
    "### Sub-Question B\n",
    "**Find in the visualization at least 3 issues that might make it less effective. Explain said issues**\n",
    "\n",
    "**Answer**:"
   ]
  },
  {
   "cell_type": "markdown",
   "id": "eca183d9",
   "metadata": {},
   "source": [
    "There are three main glaring issues with the infograph:\n",
    "\n",
    "(1) **Pie chart**: the usage of pie chart makes discerning the difference in the market share per year harder as we are unable to tell the exact difference of values between the years\n",
    "\n",
    "(2) **Labels**: The given chart doesn't detail which slice belongs to which year.Moreover, the CAGR shows the average growth from 2019 to 2026. However, one of the slices is labeled as 2018, this raises the question whether or not the other slices depict the market size for other years within said range.\n",
    "\n",
    "(3) **Background**: the background given in this infograph doesn't contribute any information as we can already see based on the title we are looking at the market share of vegan cheese. The addition of the image creates unnecessary clutter and should be avoided whenever possible.\n"
   ]
  },
  {
   "cell_type": "markdown",
   "id": "adf17397",
   "metadata": {},
   "source": [
    "### Sub-Question C -- MISSING\n",
    "**Suggest an alternative visualzation that would represent the data in a clear and more effective manner**"
   ]
  },
  {
   "cell_type": "markdown",
   "id": "f2f19040",
   "metadata": {},
   "source": [
    "## Question 4 -- MISSING\n",
    "What is the issue with the tittle \"Average North Carolina teacher pay is nearly $ 58,000, state says. But educators argue many earn lesss.\"\n",
    "Answer:"
   ]
  },
  {
   "cell_type": "markdown",
   "id": "a0111264",
   "metadata": {},
   "source": [
    "As we discussed in the lectures, the average is sensitive to extreme values. The title suggest that it is a contradiction beteween the actual (undisclosed in the title) salary of many teachers and the average represented. However, we would and should expect \"many\" (which by itself is ambigious) to earn less than the average and \"many\" to earn more "
   ]
  }
 ],
 "metadata": {
  "kernelspec": {
   "display_name": "Python 3 (ipykernel)",
   "language": "python",
   "name": "python3"
  },
  "language_info": {
   "codemirror_mode": {
    "name": "ipython",
    "version": 3
   },
   "file_extension": ".py",
   "mimetype": "text/x-python",
   "name": "python",
   "nbconvert_exporter": "python",
   "pygments_lexer": "ipython3",
   "version": "3.9.13"
  }
 },
 "nbformat": 4,
 "nbformat_minor": 5
}
